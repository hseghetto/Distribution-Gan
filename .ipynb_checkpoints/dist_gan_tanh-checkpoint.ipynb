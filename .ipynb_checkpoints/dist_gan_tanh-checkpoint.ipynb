{
 "cells": [
  {
   "cell_type": "code",
   "execution_count": 1,
   "id": "658673a0",
   "metadata": {
    "colab": {
     "base_uri": "https://localhost:8080/"
    },
    "executionInfo": {
     "elapsed": 7,
     "status": "ok",
     "timestamp": 1647994464312,
     "user": {
      "displayName": "Humberto Seghetto",
      "photoUrl": "https://lh3.googleusercontent.com/a/default-user=s64",
      "userId": "00605077274056784693"
     },
     "user_tz": 180
    },
    "id": "658673a0",
    "outputId": "0d859c7a-0694-4bf9-a496-daba05cbfaed"
   },
   "outputs": [
    {
     "name": "stdout",
     "output_type": "stream",
     "text": [
      "2.3.0\n"
     ]
    }
   ],
   "source": [
    "import tensorflow as tf\n",
    "print(tf.__version__)\n",
    "\n",
    "import matplotlib.pyplot as plt\n",
    "import numpy as np\n",
    "from tensorflow.keras import layers\n",
    "import time\n",
    "import datetime\n",
    "import os\n",
    "\n",
    "from IPython import display"
   ]
  },
  {
   "cell_type": "markdown",
   "id": "fcdb2bc4",
   "metadata": {
    "id": "fcdb2bc4"
   },
   "source": [
    "# Model"
   ]
  },
  {
   "cell_type": "markdown",
   "id": "386a876c",
   "metadata": {
    "id": "386a876c"
   },
   "source": [
    "## Generator"
   ]
  },
  {
   "cell_type": "code",
   "execution_count": 2,
   "id": "c257fd0c",
   "metadata": {
    "id": "c257fd0c"
   },
   "outputs": [],
   "source": [
    "INPUT_SIZE = 5\n",
    "OUTPUT_SIZE = 3\n",
    "\n",
    "def generator_model():\n",
    "    #Creates a new generator with new weights and no pior training\n",
    "    #Current model is a simple fully connected with 3-layers depth\n",
    "    input_shape=(INPUT_SIZE,)\n",
    "    input1 =  layers.Input(input_shape)\n",
    "\n",
    "    x = layers.Dense(64, activation=\"tanh\")(input1)\n",
    "    \n",
    "    x = layers.Dense(64, activation=\"tanh\")(x)\n",
    "    \n",
    "    x = layers.Dense(64, activation=\"tanh\")(x)\n",
    "    \n",
    "    x = layers.Dense(OUTPUT_SIZE)(x)\n",
    "    \n",
    "    model = tf.keras.Model(input1,x)\n",
    "    return model"
   ]
  },
  {
   "cell_type": "code",
   "execution_count": 3,
   "id": "19e34af0",
   "metadata": {
    "colab": {
     "base_uri": "https://localhost:8080/"
    },
    "executionInfo": {
     "elapsed": 485,
     "status": "ok",
     "timestamp": 1647994465150,
     "user": {
      "displayName": "Humberto Seghetto",
      "photoUrl": "https://lh3.googleusercontent.com/a/default-user=s64",
      "userId": "00605077274056784693"
     },
     "user_tz": 180
    },
    "id": "19e34af0",
    "outputId": "12900dbb-d83d-4195-fb7e-1e37b5d2608d"
   },
   "outputs": [
    {
     "name": "stdout",
     "output_type": "stream",
     "text": [
      "Model: \"functional_1\"\n",
      "_________________________________________________________________\n",
      "Layer (type)                 Output Shape              Param #   \n",
      "=================================================================\n",
      "input_1 (InputLayer)         [(None, 5)]               0         \n",
      "_________________________________________________________________\n",
      "dense (Dense)                (None, 64)                384       \n",
      "_________________________________________________________________\n",
      "dense_1 (Dense)              (None, 64)                4160      \n",
      "_________________________________________________________________\n",
      "dense_2 (Dense)              (None, 64)                4160      \n",
      "_________________________________________________________________\n",
      "dense_3 (Dense)              (None, 3)                 195       \n",
      "=================================================================\n",
      "Total params: 8,899\n",
      "Trainable params: 8,899\n",
      "Non-trainable params: 0\n",
      "_________________________________________________________________\n"
     ]
    }
   ],
   "source": [
    "generator = generator_model()\n",
    "generator.summary()"
   ]
  },
  {
   "cell_type": "markdown",
   "id": "f748e4c2",
   "metadata": {
    "id": "f748e4c2"
   },
   "source": [
    "## Discriminator"
   ]
  },
  {
   "cell_type": "code",
   "execution_count": 4,
   "id": "65a0971d",
   "metadata": {
    "id": "65a0971d"
   },
   "outputs": [],
   "source": [
    "def discriminator_model():\n",
    "    #Creates a new discriminator with new weights and no pior training\n",
    "    #Current model is a simple fully connected with 3-layers depth\n",
    "    input_shape = (OUTPUT_SIZE,)\n",
    "    data = layers.Input(input_shape)\n",
    "    \n",
    "    x = layers.Dense(64, activation=\"tanh\")(data)\n",
    "    \n",
    "    x = layers.Dense(64, activation=\"tanh\")(x)\n",
    "\n",
    "    x = layers.Dense(64, activation=\"tanh\")(x)\n",
    "    \n",
    "    x = layers.Dense(1,activation = \"sigmoid\")(x)\n",
    "    \n",
    "    model = tf.keras.Model(data,x)\n",
    "    return model"
   ]
  },
  {
   "cell_type": "code",
   "execution_count": 5,
   "id": "05bcbfb3",
   "metadata": {
    "colab": {
     "base_uri": "https://localhost:8080/"
    },
    "executionInfo": {
     "elapsed": 567,
     "status": "ok",
     "timestamp": 1647994465707,
     "user": {
      "displayName": "Humberto Seghetto",
      "photoUrl": "https://lh3.googleusercontent.com/a/default-user=s64",
      "userId": "00605077274056784693"
     },
     "user_tz": 180
    },
    "id": "05bcbfb3",
    "outputId": "99beb666-251b-4813-f309-fd54516a3bae"
   },
   "outputs": [
    {
     "name": "stdout",
     "output_type": "stream",
     "text": [
      "Model: \"functional_3\"\n",
      "_________________________________________________________________\n",
      "Layer (type)                 Output Shape              Param #   \n",
      "=================================================================\n",
      "input_2 (InputLayer)         [(None, 3)]               0         \n",
      "_________________________________________________________________\n",
      "dense_4 (Dense)              (None, 64)                256       \n",
      "_________________________________________________________________\n",
      "dense_5 (Dense)              (None, 64)                4160      \n",
      "_________________________________________________________________\n",
      "dense_6 (Dense)              (None, 64)                4160      \n",
      "_________________________________________________________________\n",
      "dense_7 (Dense)              (None, 1)                 65        \n",
      "=================================================================\n",
      "Total params: 8,641\n",
      "Trainable params: 8,641\n",
      "Non-trainable params: 0\n",
      "_________________________________________________________________\n"
     ]
    }
   ],
   "source": [
    "discriminator = discriminator_model()\n",
    "discriminator.summary()"
   ]
  },
  {
   "cell_type": "markdown",
   "id": "8908568a",
   "metadata": {
    "id": "8908568a"
   },
   "source": [
    "# Optimizers & Losses"
   ]
  },
  {
   "cell_type": "code",
   "execution_count": 6,
   "id": "63fac95a",
   "metadata": {
    "id": "63fac95a"
   },
   "outputs": [],
   "source": [
    "#Adjusted non-saturating gan losses\n",
    "def generator_loss(fake_output, offset = 0.01):\n",
    "    return -tf.reduce_mean(tf.math.log(fake_output+offset))\n",
    "\n",
    "def discriminator_loss(real_output, fake_output, offset=0.01):\n",
    "    return -tf.reduce_mean(tf.math.log(1-fake_output+offset)) -tf.reduce_mean(tf.math.log(real_output+offset))"
   ]
  },
  {
   "cell_type": "code",
   "execution_count": 7,
   "id": "5051fbd4",
   "metadata": {
    "id": "5051fbd4"
   },
   "outputs": [],
   "source": [
    "#Optmizers for SGD\n",
    "generator_optimizer = tf.keras.optimizers.Adam(learning_rate=0.0001)\n",
    "discriminator_optimizer = tf.keras.optimizers.Adam(learning_rate=0.001)"
   ]
  },
  {
   "cell_type": "markdown",
   "id": "cc8f504c",
   "metadata": {
    "id": "cc8f504c"
   },
   "source": [
    "# Training Loop"
   ]
  },
  {
   "cell_type": "code",
   "execution_count": 8,
   "id": "254c6ead",
   "metadata": {
    "id": "254c6ead"
   },
   "outputs": [],
   "source": [
    "BATCH_SIZE = 1024\n",
    "\n",
    "def generate_input_noise(size):\n",
    "    #use this function to feed the generator\n",
    "    return tf.random.uniform([size,INPUT_SIZE],minval = 0,maxval = 1)\n",
    "    #return tf.random.normal([size,INPUT_SIZE])\n",
    "\n",
    "def generate_target_function(size, sigma = 1):\n",
    "    #target distribution to be aproximated\n",
    "    return np.random.lognormal(0,sigma,size = size)\n",
    "\n",
    "def generate_and_save_histograms(epoch,test_input):\n",
    "    #Create and save figures to visualize progress\n",
    "    #use seed to generate predictions\n",
    "    predictions = generator(test_input, training = False)\n",
    "    #revert normalization\n",
    "    predictions = np.array(predictions)*STD+MEAN\n",
    "    \n",
    "    #Create figure\n",
    "    fig_size = (16,4)\n",
    "    fig, ax = plt.subplots(figsize=fig_size, nrows=1, ncols=OUTPUT_SIZE)\n",
    "    fig.patch.set_facecolor('white')\n",
    "    ax = ax.flatten()\n",
    "    \n",
    "    #Plot generated and true distribution histograms together\n",
    "    for i in range(OUTPUT_SIZE):\n",
    "        ax[i].hist(predictions[:,i],bins = 32,histtype = \"step\", stacked = \"True\", linewidth=4, label=\"Prediction\")\n",
    "        ax[i].hist(generate_target_function(BATCH_SIZE,sigma[i]),\n",
    "                 color='red', histtype = \"step\", stacked = \"True\", bins = 32, linewidth=4, label=\"Target\")\n",
    "        plt.legend()\n",
    "    \n",
    "    #Show and save figure\n",
    "    plt.savefig(image_log_dir+'\\epoch_{:04d}.png'.format(epoch))\n",
    "    plt.show()"
   ]
  },
  {
   "cell_type": "code",
   "execution_count": 9,
   "id": "59e94f75",
   "metadata": {
    "id": "59e94f75"
   },
   "outputs": [],
   "source": [
    "@tf.function\n",
    "def train_step(data,labels):\n",
    "    #Traingning step for a single batch\n",
    "    noise = generate_input_noise(BATCH_SIZE)\n",
    "\n",
    "    print(\"Creating graph with:\",data.shape)\n",
    "    with tf.GradientTape(persistent=True) as tape:\n",
    "        print(\"Generating data\")\n",
    "        generated_data = generator(noise, training=True)\n",
    "\n",
    "        print(\"Calculating discriminator results\")\n",
    "        real_output = discriminator(data, training = True)\n",
    "        fake_output = discriminator(generated_data, training = True)\n",
    "        \n",
    "        print(\"Calculating loss\")\n",
    "        gen_loss = generator_loss(fake_output)\n",
    "        disc_loss = discriminator_loss(real_output, fake_output)\n",
    "\n",
    "    print(\"Calculating gradient\")\n",
    "    gradients_of_generator = tape.gradient(gen_loss, generator.trainable_variables)\n",
    "    gradients_of_discriminator = tape.gradient(disc_loss, discriminator.trainable_variables)\n",
    "    \n",
    "    print(\"Applying gradient\")\n",
    "    generator_optimizer.apply_gradients(zip(gradients_of_generator, generator.trainable_variables))\n",
    "    discriminator_optimizer.apply_gradients(zip(gradients_of_discriminator, discriminator.trainable_variables))\n",
    "    \n",
    "    print(\"Train step finished!\")\n",
    "    return gen_loss, disc_loss"
   ]
  },
  {
   "cell_type": "code",
   "execution_count": 10,
   "id": "44a648b2",
   "metadata": {
    "id": "44a648b2"
   },
   "outputs": [],
   "source": [
    "def train(Epochs):\n",
    "    print(\"Starting training\")\n",
    "    gen_loss=[]\n",
    "    disc_loss=[]\n",
    "    for epoch in range(1,Epochs+1):\n",
    "        start = time.time()\n",
    "\n",
    "        print(\"Epoch {}\".format(epoch))\n",
    "        \n",
    "        g_loss = 0\n",
    "        d_loss = 0\n",
    "        for data_batch,labels in dataset:\n",
    "            g,d = train_step(data_batch,labels)\n",
    "            \n",
    "            g_loss = g + g_loss\n",
    "            d_loss = d + d_loss\n",
    "        \n",
    "        gen_loss.append(g_loss)\n",
    "        disc_loss.append(d_loss)\n",
    "        \n",
    "        if(epoch%20==0):\n",
    "            display.clear_output()\n",
    "            \n",
    "            plt.plot(gen_loss,label=\"Generator\")\n",
    "            plt.plot(disc_loss,label=\"Discriminator\")\n",
    "            plt.legend()\n",
    "            plt.show()\n",
    "            \n",
    "        if(epoch%20==0):\n",
    "            generate_and_save_histograms(epoch,seed)\n",
    "        \n",
    "        \n",
    "        print (\"Time for epoch {}/{} is {} sec\".format(epoch,Epochs, time.time()-start))\n"
   ]
  },
  {
   "cell_type": "markdown",
   "id": "4fd3cff9",
   "metadata": {
    "id": "4fd3cff9"
   },
   "source": [
    "# Creating Dataset"
   ]
  },
  {
   "cell_type": "code",
   "execution_count": 11,
   "id": "b0bc3aaa",
   "metadata": {
    "colab": {
     "background_save": true,
     "base_uri": "https://localhost:8080/",
     "height": 284
    },
    "executionInfo": {
     "elapsed": 1072,
     "status": "ok",
     "timestamp": 1647994466770,
     "user": {
      "displayName": "Humberto Seghetto",
      "photoUrl": "https://lh3.googleusercontent.com/a/default-user=s64",
      "userId": "00605077274056784693"
     },
     "user_tz": 180
    },
    "id": "b0bc3aaa",
    "outputId": "db80ef75-d0ea-437e-acb3-dbbab4221eb9"
   },
   "outputs": [
    {
     "name": "stdout",
     "output_type": "stream",
     "text": [
      "Creating Dataset\n",
      "Dataset histogram\n"
     ]
    },
    {
     "data": {
      "image/png": "[encoded data removed]",
      "text/plain": [
       "<Figure size 432x288 with 1 Axes>"
      ]
     },
     "metadata": {
      "needs_background": "light"
     },
     "output_type": "display_data"
    },
    {
     "name": "stdout",
     "output_type": "stream",
     "text": [
      "Dataset plot\n"
     ]
    },
    {
     "data": {
      "image/png": "[encoded data removed]",
      "text/plain": [
       "<Figure size 432x288 with 1 Axes>"
      ]
     },
     "metadata": {
      "needs_background": "light"
     },
     "output_type": "display_data"
    }
   ],
   "source": [
    "#Dataset parameters\n",
    "set_size = 100*BATCH_SIZE\n",
    "dataset_size = OUTPUT_SIZE*set_size\n",
    "sigma = [1,0.5,0.1]\n",
    "\n",
    "print(\"Creating Dataset\")\n",
    "train_data = np.zeros([OUTPUT_SIZE,set_size]).astype(\"float32\")\n",
    "labels = np.ones([OUTPUT_SIZE,set_size]).astype(\"float32\")\n",
    "for i in range(OUTPUT_SIZE):\n",
    "    labels[i] = labels[i]*sigma[i]\n",
    "    train_data[i] = generate_target_function(set_size,sigma[i])\n",
    "\n",
    "labels = labels.transpose()\n",
    "train_data = train_data.transpose()\n",
    "\n",
    "print(\"Dataset histogram\")\n",
    "plt.hist(train_data,bins = 100)\n",
    "plt.show() \n",
    "\n",
    "print(\"Dataset plot\")\n",
    "plt.plot(train_data)\n",
    "plt.show()\n",
    "\n",
    "#Normalization\n",
    "MEAN = np.mean(train_data)\n",
    "STD = np.std(train_data)  \n",
    "train_data = (train_data - MEAN)/STD\n",
    "\n",
    "#Discriminator/Generator test\n",
    "discriminator(generator(generate_input_noise(BATCH_SIZE)))\n",
    "\n",
    "dataset = tf.data.Dataset.from_tensor_slices((train_data, labels))\n",
    "dataset = dataset.shuffle(2*BATCH_SIZE).batch(BATCH_SIZE)\n",
    "\n"
   ]
  },
  {
   "cell_type": "markdown",
   "id": "f2e4e3a0",
   "metadata": {
    "id": "f2e4e3a0"
   },
   "source": [
    "# Training and testing"
   ]
  },
  {
   "cell_type": "code",
   "execution_count": 12,
   "id": "3e05caf9",
   "metadata": {
    "colab": {
     "background_save": true,
     "base_uri": "https://localhost:8080/",
     "height": 1000
    },
    "id": "3e05caf9",
    "outputId": "2836a552-5bf8-49a1-e4cc-5d1a369d9f7a",
    "scrolled": true
   },
   "outputs": [
    {
     "data": {
      "image/png": "[encoded data removed]",
      "text/plain": [
       "<Figure size 432x288 with 1 Axes>"
      ]
     },
     "metadata": {
      "needs_background": "light"
     },
     "output_type": "display_data"
    },
    {
     "name": "stderr",
     "output_type": "stream",
     "text": [
      "No handles with labels found to put in legend.\n",
      "No handles with labels found to put in legend.\n"
     ]
    },
    {
     "data": {
      "image/png": "[encoded data removed]",
      "text/plain": [
       "<Figure size 1152x288 with 3 Axes>"
      ]
     },
     "metadata": {},
     "output_type": "display_data"
    },
    {
     "name": "stdout",
     "output_type": "stream",
     "text": [
      "Time for epoch 400/400 is 0.7355713844299316 sec\n"
     ]
    }
   ],
   "source": [
    "for _ in range(1):\n",
    "    seed = generate_input_noise(BATCH_SIZE)\n",
    "\n",
    "    generator = generator_model()\n",
    "    discriminator = discriminator_model()\n",
    "\n",
    "    current_time = datetime.datetime.now().strftime(\"%Y%m%d-%H%M%S\")\n",
    "\n",
    "    metric_log_dir = 'logs/metric/'+ current_time\n",
    "    metric_summary_writer = tf.summary.create_file_writer(metric_log_dir)\n",
    "\n",
    "    image_log_dir = 'logs/images/'+ current_time \n",
    "    os.makedirs(image_log_dir)\n",
    "\n",
    "    tf.keras.utils.plot_model(generator,to_file=image_log_dir+\"\\gen_gan.png\",show_shapes=False)\n",
    "    tf.keras.utils.plot_model(discriminator,to_file=image_log_dir+\"\\disc_gan.png\",show_shapes=False)\n",
    "\n",
    "    train(400)"
   ]
  },
  {
   "cell_type": "code",
   "execution_count": 13,
   "id": "c3bd3d8d",
   "metadata": {},
   "outputs": [
    {
     "name": "stdout",
     "output_type": "stream",
     "text": [
      "noise tf.Tensor(\n",
      "[[0.32224488 0.69682086 0.23569322 0.65893054 0.41817164]\n",
      " [0.07366872 0.65285385 0.55857205 0.6855737  0.3663913 ]\n",
      " [0.02906942 0.12223446 0.16966426 0.53384256 0.5739018 ]\n",
      " ...\n",
      " [0.68823314 0.58007216 0.274742   0.80077577 0.8102491 ]\n",
      " [0.9532304  0.89446545 0.07247555 0.314528   0.8140011 ]\n",
      " [0.9821557  0.8321358  0.6698451  0.15250635 0.6233643 ]], shape=(1024, 5), dtype=float32)\n",
      "gen_data tf.Tensor(\n",
      "[[-0.22808377 -0.05788106 -0.23140499]\n",
      " [-0.4524988   0.642724   -0.1720854 ]\n",
      " [-0.87009823  0.85100365 -0.2748857 ]\n",
      " ...\n",
      " [-0.11625771 -0.2307239  -0.2539874 ]\n",
      " [-0.24172963 -0.76328397 -0.23291782]\n",
      " [-0.09265111 -0.469638   -0.28282458]], shape=(1024, 3), dtype=float32)\n",
      "x tf.Tensor(\n",
      "[[-0.39718163 -0.6711197   1.0949874   0.8173369  -0.39721292]\n",
      " [-0.13681246 -1.0029476   1.2790021   0.9974812  -0.80816555]\n",
      " [ 0.03242312 -0.7218256   1.1304193   0.92725515 -0.48771214]\n",
      " ...\n",
      " [-0.53249097 -0.64432126  0.98325914  0.7661207  -0.30159682]\n",
      " [-0.40457    -0.04330784  0.625181    0.34413704  0.07629688]\n",
      " [-0.31920975 -0.28609452  0.85358566  0.54048467 -0.38828558]], shape=(1024, 5), dtype=float32)\n",
      "y tf.Tensor(\n",
      "[[-0.4690123   0.0243186  -0.5241873  -0.5250769   0.17905723]\n",
      " [-0.75525355  0.38107473 -1.317045   -0.5927725   1.209038  ]\n",
      " [-1.3097124   0.36820588 -0.58659524 -0.46976608  0.5768063 ]\n",
      " ...\n",
      " [-0.11459254  0.23319183 -0.38166714 -0.6060385   0.04147211]\n",
      " [-0.00768707 -0.10500707 -0.21454343 -0.3875729  -0.23704469]\n",
      " [-0.13191755  0.29866746 -0.7218244  -0.44249755  0.41219294]], shape=(1024, 5), dtype=float32)\n"
     ]
    }
   ],
   "source": [
    "with tf.GradientTape() as tape1:\n",
    "    with tf.GradientTape() as tape2:\n",
    "        noise = generate_input_noise(1024)\n",
    "        tape2.watch(noise)\n",
    "        tape1.watch(noise)\n",
    "        \n",
    "        gen_data = generator(noise)\n",
    "    x = tape2.gradient(gen_data, noise)\n",
    "    tape1.watch(x)\n",
    "    \n",
    "    \n",
    "print(\"noise\",noise)\n",
    "print(\"gen_data\",gen_data)\n",
    "print(\"x\",x)\n",
    "\n",
    "# [1024,1] / d²[1024x3]\n",
    "# [1024, 3]\n",
    "y = tape1.gradient(x, noise)\n",
    "print(\"y\",y)"
   ]
  },
  {
   "cell_type": "code",
   "execution_count": null,
   "id": "699218c2",
   "metadata": {},
   "outputs": [],
   "source": []
  }
 ],
 "metadata": {
  "accelerator": "GPU",
  "colab": {
   "name": "gan_dist.ipynb",
   "provenance": [
    {
     "file_id": "1kN4PopFfTJ2OmpkfckX1P4toMFZqBpYS",
     "timestamp": 1647989764806
    },
    {
     "file_id": "1S0Kb30sOt7CtgkbxVn2WX2Xmmc2lKUKy",
     "timestamp": 1647981299100
    }
   ]
  },
  "kernelspec": {
   "display_name": "Python 3",
   "language": "python",
   "name": "python3"
  },
  "language_info": {
   "codemirror_mode": {
    "name": "ipython",
    "version": 3
   },
   "file_extension": ".py",
   "mimetype": "text/x-python",
   "name": "python",
   "nbconvert_exporter": "python",
   "pygments_lexer": "ipython3",
   "version": "3.8.10"
  }
 },
 "nbformat": 4,
 "nbformat_minor": 5
}
